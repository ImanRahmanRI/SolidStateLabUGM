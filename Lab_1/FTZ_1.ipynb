{
 "cells": [
  {
   "cell_type": "code",
   "execution_count": 1,
   "metadata": {},
   "outputs": [],
   "source": [
    "from math import pi,sin,cos,tan,sqrt,log\n",
    "import numpy as np\n",
    "import pandas as pd\n",
    "import matplotlib.pyplot as plt\n",
    "from sklearn.linear_model import LinearRegression"
   ]
  },
  {
   "cell_type": "code",
   "execution_count": 2,
   "metadata": {},
   "outputs": [],
   "source": [
    "z0=15*10**(-2)#m\n",
    "z=22*10**(-2)#m\n",
    "d=1*10**(-2)#m"
   ]
  },
  {
   "cell_type": "markdown",
   "metadata": {},
   "source": [
    "Menit 15"
   ]
  },
  {
   "cell_type": "code",
   "execution_count": 3,
   "metadata": {},
   "outputs": [],
   "source": [
    "Data1 = pd.read_csv('./Data/menit15.csv')\n",
    "zeta_1 = Data1[\"zeta\"]*10**(-2)#m\n",
    "delta_1 = Data1[\"delta\"]*10**(-2)#m\n",
    "i_1 = np.arange(1,int(len(Data1))+1,1)"
   ]
  },
  {
   "cell_type": "code",
   "execution_count": 4,
   "metadata": {},
   "outputs": [
    {
     "name": "stderr",
     "output_type": "stream",
     "text": [
      "/home/imanrahmanri/anaconda3/lib/python3.7/site-packages/pandas/core/series.py:853: RuntimeWarning: divide by zero encountered in log\n",
      "  result = getattr(ufunc, method)(*inputs, **kwargs)\n"
     ]
    }
   ],
   "source": [
    "yi_1 = (zeta_1 * z0)/(z0 + d + z)\n",
    "dndy_1 = delta_1/(z*d)\n",
    "lndndy_1 = np.log(dndy_1)"
   ]
  },
  {
   "cell_type": "code",
   "execution_count": 5,
   "metadata": {},
   "outputs": [
    {
     "name": "stderr",
     "output_type": "stream",
     "text": [
      "/home/imanrahmanri/anaconda3/lib/python3.7/site-packages/numpy/core/fromnumeric.py:61: FutureWarning: \n",
      "The current behaviour of 'Series.argmax' is deprecated, use 'idxmax'\n",
      "instead.\n",
      "The behavior of 'argmax' will be corrected to return the positional\n",
      "maximum in the future. For now, use 'series.values.argmax' or\n",
      "'np.argmax(np.array(values))' to get the position of the maximum\n",
      "row.\n",
      "  return bound(*args, **kwds)\n"
     ]
    },
    {
     "data": {
      "text/plain": [
       "0.016973684210526314"
      ]
     },
     "execution_count": 5,
     "metadata": {},
     "output_type": "execute_result"
    }
   ],
   "source": [
    "ih=np.argmax(dndy_1)\n",
    "h1=yi_1[ih]\n",
    "h1"
   ]
  },
  {
   "cell_type": "code",
   "execution_count": 6,
   "metadata": {},
   "outputs": [
    {
     "data": {
      "text/plain": [
       "Text(0.5,1,'menit 15')"
      ]
     },
     "execution_count": 6,
     "metadata": {},
     "output_type": "execute_result"
    },
    {
     "data": {
      "image/png": "[encoded data removed]",
      "text/plain": [
       "<Figure size 432x288 with 1 Axes>"
      ]
     },
     "metadata": {
      "needs_background": "light"
     },
     "output_type": "display_data"
    }
   ],
   "source": [
    "plt.plot(yi_1,dndy_1)\n",
    "plt.xlabel(\"Yi\")\n",
    "plt.ylabel(\"(dn/dY)i\")\n",
    "plt.grid()\n",
    "plt.vlines(x=yi_1[ih] , ymin=0 , ymax=dndy_1[ih])\n",
    "plt.axhline(0, color='black')\n",
    "plt.axvline(0, color='black')\n",
    "plt.title(\"menit 15\")"
   ]
  },
  {
   "cell_type": "code",
   "execution_count": 7,
   "metadata": {},
   "outputs": [
    {
     "data": {
      "text/html": [
       "<div>\n",
       "<style scoped>\n",
       "    .dataframe tbody tr th:only-of-type {\n",
       "        vertical-align: middle;\n",
       "    }\n",
       "\n",
       "    .dataframe tbody tr th {\n",
       "        vertical-align: top;\n",
       "    }\n",
       "\n",
       "    .dataframe thead th {\n",
       "        text-align: right;\n",
       "    }\n",
       "</style>\n",
       "<table border=\"1\" class=\"dataframe\">\n",
       "  <thead>\n",
       "    <tr style=\"text-align: right;\">\n",
       "      <th></th>\n",
       "      <th>i</th>\n",
       "      <th>delta_i</th>\n",
       "      <th>zeta_i</th>\n",
       "      <th>Yi</th>\n",
       "      <th>(dn/dy)i</th>\n",
       "      <th>(h-yi)^2</th>\n",
       "      <th>Ln(dn/dY)i</th>\n",
       "    </tr>\n",
       "  </thead>\n",
       "  <tbody>\n",
       "    <tr>\n",
       "      <td>0</td>\n",
       "      <td>1</td>\n",
       "      <td>0.0000</td>\n",
       "      <td>0.0550</td>\n",
       "      <td>0.021711</td>\n",
       "      <td>0.000000</td>\n",
       "      <td>2.243767e-05</td>\n",
       "      <td>-inf</td>\n",
       "    </tr>\n",
       "    <tr>\n",
       "      <td>1</td>\n",
       "      <td>2</td>\n",
       "      <td>0.0010</td>\n",
       "      <td>0.0540</td>\n",
       "      <td>0.021316</td>\n",
       "      <td>0.454545</td>\n",
       "      <td>1.885388e-05</td>\n",
       "      <td>-0.788457</td>\n",
       "    </tr>\n",
       "    <tr>\n",
       "      <td>2</td>\n",
       "      <td>3</td>\n",
       "      <td>0.0015</td>\n",
       "      <td>0.0520</td>\n",
       "      <td>0.020526</td>\n",
       "      <td>0.681818</td>\n",
       "      <td>1.262119e-05</td>\n",
       "      <td>-0.382992</td>\n",
       "    </tr>\n",
       "    <tr>\n",
       "      <td>3</td>\n",
       "      <td>4</td>\n",
       "      <td>0.0020</td>\n",
       "      <td>0.0500</td>\n",
       "      <td>0.019737</td>\n",
       "      <td>0.909091</td>\n",
       "      <td>7.635042e-06</td>\n",
       "      <td>-0.095310</td>\n",
       "    </tr>\n",
       "    <tr>\n",
       "      <td>4</td>\n",
       "      <td>5</td>\n",
       "      <td>0.0030</td>\n",
       "      <td>0.0495</td>\n",
       "      <td>0.019539</td>\n",
       "      <td>1.363636</td>\n",
       "      <td>6.583276e-06</td>\n",
       "      <td>0.310155</td>\n",
       "    </tr>\n",
       "    <tr>\n",
       "      <td>5</td>\n",
       "      <td>6</td>\n",
       "      <td>0.0040</td>\n",
       "      <td>0.0490</td>\n",
       "      <td>0.019342</td>\n",
       "      <td>1.818182</td>\n",
       "      <td>5.609418e-06</td>\n",
       "      <td>0.597837</td>\n",
       "    </tr>\n",
       "    <tr>\n",
       "      <td>6</td>\n",
       "      <td>7</td>\n",
       "      <td>0.0060</td>\n",
       "      <td>0.0480</td>\n",
       "      <td>0.018947</td>\n",
       "      <td>2.727273</td>\n",
       "      <td>3.895429e-06</td>\n",
       "      <td>1.003302</td>\n",
       "    </tr>\n",
       "    <tr>\n",
       "      <td>7</td>\n",
       "      <td>8</td>\n",
       "      <td>0.0070</td>\n",
       "      <td>0.0470</td>\n",
       "      <td>0.018553</td>\n",
       "      <td>3.181818</td>\n",
       "      <td>2.493075e-06</td>\n",
       "      <td>1.157453</td>\n",
       "    </tr>\n",
       "    <tr>\n",
       "      <td>8</td>\n",
       "      <td>9</td>\n",
       "      <td>0.0090</td>\n",
       "      <td>0.0465</td>\n",
       "      <td>0.018355</td>\n",
       "      <td>4.090909</td>\n",
       "      <td>1.908760e-06</td>\n",
       "      <td>1.408767</td>\n",
       "    </tr>\n",
       "    <tr>\n",
       "      <td>9</td>\n",
       "      <td>10</td>\n",
       "      <td>0.0110</td>\n",
       "      <td>0.0450</td>\n",
       "      <td>0.017763</td>\n",
       "      <td>5.000000</td>\n",
       "      <td>6.232687e-07</td>\n",
       "      <td>1.609438</td>\n",
       "    </tr>\n",
       "    <tr>\n",
       "      <td>10</td>\n",
       "      <td>11</td>\n",
       "      <td>0.0130</td>\n",
       "      <td>0.0430</td>\n",
       "      <td>0.016974</td>\n",
       "      <td>5.909091</td>\n",
       "      <td>0.000000e+00</td>\n",
       "      <td>1.776492</td>\n",
       "    </tr>\n",
       "    <tr>\n",
       "      <td>11</td>\n",
       "      <td>12</td>\n",
       "      <td>0.0110</td>\n",
       "      <td>0.0425</td>\n",
       "      <td>0.016776</td>\n",
       "      <td>5.000000</td>\n",
       "      <td>3.895429e-08</td>\n",
       "      <td>1.609438</td>\n",
       "    </tr>\n",
       "    <tr>\n",
       "      <td>12</td>\n",
       "      <td>13</td>\n",
       "      <td>0.0100</td>\n",
       "      <td>0.0420</td>\n",
       "      <td>0.016579</td>\n",
       "      <td>4.545455</td>\n",
       "      <td>1.558172e-07</td>\n",
       "      <td>1.514128</td>\n",
       "    </tr>\n",
       "    <tr>\n",
       "      <td>13</td>\n",
       "      <td>14</td>\n",
       "      <td>0.0080</td>\n",
       "      <td>0.0415</td>\n",
       "      <td>0.016382</td>\n",
       "      <td>3.636364</td>\n",
       "      <td>3.505886e-07</td>\n",
       "      <td>1.290984</td>\n",
       "    </tr>\n",
       "    <tr>\n",
       "      <td>14</td>\n",
       "      <td>15</td>\n",
       "      <td>0.0070</td>\n",
       "      <td>0.0395</td>\n",
       "      <td>0.015592</td>\n",
       "      <td>3.181818</td>\n",
       "      <td>1.908760e-06</td>\n",
       "      <td>1.157453</td>\n",
       "    </tr>\n",
       "    <tr>\n",
       "      <td>15</td>\n",
       "      <td>16</td>\n",
       "      <td>0.0050</td>\n",
       "      <td>0.0380</td>\n",
       "      <td>0.015000</td>\n",
       "      <td>2.272727</td>\n",
       "      <td>3.895429e-06</td>\n",
       "      <td>0.820981</td>\n",
       "    </tr>\n",
       "    <tr>\n",
       "      <td>16</td>\n",
       "      <td>17</td>\n",
       "      <td>0.0040</td>\n",
       "      <td>0.0370</td>\n",
       "      <td>0.014605</td>\n",
       "      <td>1.818182</td>\n",
       "      <td>5.609418e-06</td>\n",
       "      <td>0.597837</td>\n",
       "    </tr>\n",
       "    <tr>\n",
       "      <td>17</td>\n",
       "      <td>18</td>\n",
       "      <td>0.0030</td>\n",
       "      <td>0.0360</td>\n",
       "      <td>0.014211</td>\n",
       "      <td>1.363636</td>\n",
       "      <td>7.635042e-06</td>\n",
       "      <td>0.310155</td>\n",
       "    </tr>\n",
       "    <tr>\n",
       "      <td>18</td>\n",
       "      <td>19</td>\n",
       "      <td>0.0020</td>\n",
       "      <td>0.0350</td>\n",
       "      <td>0.013816</td>\n",
       "      <td>0.909091</td>\n",
       "      <td>9.972299e-06</td>\n",
       "      <td>-0.095310</td>\n",
       "    </tr>\n",
       "    <tr>\n",
       "      <td>19</td>\n",
       "      <td>20</td>\n",
       "      <td>0.0000</td>\n",
       "      <td>0.0330</td>\n",
       "      <td>0.013026</td>\n",
       "      <td>0.000000</td>\n",
       "      <td>1.558172e-05</td>\n",
       "      <td>-inf</td>\n",
       "    </tr>\n",
       "  </tbody>\n",
       "</table>\n",
       "</div>"
      ],
      "text/plain": [
       "     i  delta_i  zeta_i        Yi  (dn/dy)i      (h-yi)^2  Ln(dn/dY)i\n",
       "0    1   0.0000  0.0550  0.021711  0.000000  2.243767e-05        -inf\n",
       "1    2   0.0010  0.0540  0.021316  0.454545  1.885388e-05   -0.788457\n",
       "2    3   0.0015  0.0520  0.020526  0.681818  1.262119e-05   -0.382992\n",
       "3    4   0.0020  0.0500  0.019737  0.909091  7.635042e-06   -0.095310\n",
       "4    5   0.0030  0.0495  0.019539  1.363636  6.583276e-06    0.310155\n",
       "5    6   0.0040  0.0490  0.019342  1.818182  5.609418e-06    0.597837\n",
       "6    7   0.0060  0.0480  0.018947  2.727273  3.895429e-06    1.003302\n",
       "7    8   0.0070  0.0470  0.018553  3.181818  2.493075e-06    1.157453\n",
       "8    9   0.0090  0.0465  0.018355  4.090909  1.908760e-06    1.408767\n",
       "9   10   0.0110  0.0450  0.017763  5.000000  6.232687e-07    1.609438\n",
       "10  11   0.0130  0.0430  0.016974  5.909091  0.000000e+00    1.776492\n",
       "11  12   0.0110  0.0425  0.016776  5.000000  3.895429e-08    1.609438\n",
       "12  13   0.0100  0.0420  0.016579  4.545455  1.558172e-07    1.514128\n",
       "13  14   0.0080  0.0415  0.016382  3.636364  3.505886e-07    1.290984\n",
       "14  15   0.0070  0.0395  0.015592  3.181818  1.908760e-06    1.157453\n",
       "15  16   0.0050  0.0380  0.015000  2.272727  3.895429e-06    0.820981\n",
       "16  17   0.0040  0.0370  0.014605  1.818182  5.609418e-06    0.597837\n",
       "17  18   0.0030  0.0360  0.014211  1.363636  7.635042e-06    0.310155\n",
       "18  19   0.0020  0.0350  0.013816  0.909091  9.972299e-06   -0.095310\n",
       "19  20   0.0000  0.0330  0.013026  0.000000  1.558172e-05        -inf"
      ]
     },
     "execution_count": 7,
     "metadata": {},
     "output_type": "execute_result"
    }
   ],
   "source": [
    "hyi2_1=(h1-yi_1)**2\n",
    "data1_mod={\"i\":i_1,\"delta_i\":delta_1,\"zeta_i\":zeta_1,\"Yi\":yi_1,\"(dn/dy)i\":dndy_1,\"(h-yi)^2\":hyi2_1,\"Ln(dn/dY)i\":lndndy_1}\n",
    "data1_mod=pd.DataFrame(data1_mod,columns=[\"i\",\"delta_i\",\"zeta_i\",\"Yi\",\"(dn/dy)i\",\"(h-yi)^2\",\"Ln(dn/dY)i\"])\n",
    "data1_mod"
   ]
  },
  {
   "cell_type": "code",
   "execution_count": 8,
   "metadata": {},
   "outputs": [],
   "source": [
    "x=np.array(hyi2_1)\n",
    "x=np.delete(x, [0,19])\n",
    "x=x.reshape(-1,1)\n",
    "y=np.array(lndndy_1)\n",
    "y=np.delete(y, [0,19])\n",
    "y=y.reshape(-1,1)\n",
    "model = LinearRegression()\n",
    "model.fit(x, y)\n",
    "c=model.intercept_\n",
    "m=model.coef_\n",
    "r2=model.score(x, y)\n",
    "delta_m=m*sqrt(1-r2)\n",
    "y_pred=model.predict(x)"
   ]
  },
  {
   "cell_type": "code",
   "execution_count": 9,
   "metadata": {},
   "outputs": [
    {
     "name": "stdout",
     "output_type": "stream",
     "text": [
      "[1.48550662] [[-144078.63840194]] 0.923037176819616 [[-39970.54691435]]\n"
     ]
    }
   ],
   "source": [
    "print(c,m,r2,delta_m)"
   ]
  },
  {
   "cell_type": "code",
   "execution_count": 10,
   "metadata": {},
   "outputs": [
    {
     "data": {
      "text/plain": [
       "Text(0.5,1,'menit 15')"
      ]
     },
     "execution_count": 10,
     "metadata": {},
     "output_type": "execute_result"
    },
    {
     "data": {
      "image/png": "[encoded data removed]",
      "text/plain": [
       "<Figure size 432x288 with 1 Axes>"
      ]
     },
     "metadata": {
      "needs_background": "light"
     },
     "output_type": "display_data"
    }
   ],
   "source": [
    "plt.scatter(x*10**(5),y)\n",
    "plt.plot(x*10**(5),y_pred,'r',label='y=-144078.63x+1.48,  R^2=0.92, delta_m=-39970.54')\n",
    "plt.legend()\n",
    "plt.xlabel(\"(h-yi)^2*10**(-5)\")\n",
    "plt.ylabel(\"Ln(dn/dY)i\")\n",
    "plt.xlim(min(x)*10**(5),max(x)*10**(5))\n",
    "plt.ylim(min(y),max(y))\n",
    "plt.grid(True)\n",
    "plt.title(\"menit 15\")"
   ]
  },
  {
   "cell_type": "code",
   "execution_count": 11,
   "metadata": {},
   "outputs": [
    {
     "name": "stdout",
     "output_type": "stream",
     "text": [
      "[[1.92795949e-09]] [[5.3485788e-10]]\n"
     ]
    }
   ],
   "source": [
    "D_1 = - 1/(4*m*15*60)\n",
    "deltaD_1 = - 1/(4 * m**2 * 15 * 60) * delta_m\n",
    "print(D_1, deltaD_1)"
   ]
  },
  {
   "cell_type": "markdown",
   "metadata": {},
   "source": [
    "Menit 30"
   ]
  },
  {
   "cell_type": "code",
   "execution_count": 12,
   "metadata": {},
   "outputs": [],
   "source": [
    "Data2 = pd.read_csv('./Data/menit30.csv')\n",
    "zeta_2 = Data2[\"zeta\"]*10**(-2)#m\n",
    "delta_2 = Data2[\"delta\"]*10**(-2)#m\n",
    "i_2 = np.arange(1,int(len(Data2))+1,1)"
   ]
  },
  {
   "cell_type": "code",
   "execution_count": 13,
   "metadata": {},
   "outputs": [
    {
     "name": "stderr",
     "output_type": "stream",
     "text": [
      "/home/imanrahmanri/anaconda3/lib/python3.7/site-packages/pandas/core/series.py:853: RuntimeWarning: divide by zero encountered in log\n",
      "  result = getattr(ufunc, method)(*inputs, **kwargs)\n"
     ]
    }
   ],
   "source": [
    "yi_2 = (zeta_2 * z0)/(z0 + d + z)\n",
    "dndy_2 = delta_2/(z*d)\n",
    "lndndy_2 = np.log(dndy_2)"
   ]
  },
  {
   "cell_type": "code",
   "execution_count": 14,
   "metadata": {},
   "outputs": [
    {
     "name": "stderr",
     "output_type": "stream",
     "text": [
      "/home/imanrahmanri/anaconda3/lib/python3.7/site-packages/numpy/core/fromnumeric.py:61: FutureWarning: \n",
      "The current behaviour of 'Series.argmax' is deprecated, use 'idxmax'\n",
      "instead.\n",
      "The behavior of 'argmax' will be corrected to return the positional\n",
      "maximum in the future. For now, use 'series.values.argmax' or\n",
      "'np.argmax(np.array(values))' to get the position of the maximum\n",
      "row.\n",
      "  return bound(*args, **kwds)\n"
     ]
    },
    {
     "data": {
      "text/plain": [
       "0.015789473684210527"
      ]
     },
     "execution_count": 14,
     "metadata": {},
     "output_type": "execute_result"
    }
   ],
   "source": [
    "ih=np.argmax(dndy_2)\n",
    "h2=yi_2[ih]\n",
    "h2"
   ]
  },
  {
   "cell_type": "code",
   "execution_count": 15,
   "metadata": {},
   "outputs": [
    {
     "data": {
      "text/plain": [
       "Text(0.5,1,'menit 30')"
      ]
     },
     "execution_count": 15,
     "metadata": {},
     "output_type": "execute_result"
    },
    {
     "data": {
      "image/png": "[encoded data removed]",
      "text/plain": [
       "<Figure size 432x288 with 1 Axes>"
      ]
     },
     "metadata": {
      "needs_background": "light"
     },
     "output_type": "display_data"
    }
   ],
   "source": [
    "plt.plot(yi_2,dndy_2)\n",
    "plt.xlabel(\"Yi\")\n",
    "plt.ylabel(\"(dn/dY)i\")\n",
    "plt.grid()\n",
    "plt.vlines(x=yi_2[ih] , ymin=0 , ymax=dndy_2[ih])\n",
    "plt.axhline(0, color='black')\n",
    "plt.axvline(0, color='black')\n",
    "plt.title(\"menit 30\")"
   ]
  },
  {
   "cell_type": "code",
   "execution_count": 16,
   "metadata": {},
   "outputs": [
    {
     "data": {
      "text/html": [
       "<div>\n",
       "<style scoped>\n",
       "    .dataframe tbody tr th:only-of-type {\n",
       "        vertical-align: middle;\n",
       "    }\n",
       "\n",
       "    .dataframe tbody tr th {\n",
       "        vertical-align: top;\n",
       "    }\n",
       "\n",
       "    .dataframe thead th {\n",
       "        text-align: right;\n",
       "    }\n",
       "</style>\n",
       "<table border=\"1\" class=\"dataframe\">\n",
       "  <thead>\n",
       "    <tr style=\"text-align: right;\">\n",
       "      <th></th>\n",
       "      <th>i</th>\n",
       "      <th>delta_i</th>\n",
       "      <th>zeta_i</th>\n",
       "      <th>Yi</th>\n",
       "      <th>(dn/dy)i</th>\n",
       "      <th>(h-yi)^2</th>\n",
       "      <th>Ln(dn/dY)i</th>\n",
       "    </tr>\n",
       "  </thead>\n",
       "  <tbody>\n",
       "    <tr>\n",
       "      <td>0</td>\n",
       "      <td>1</td>\n",
       "      <td>0.0000</td>\n",
       "      <td>0.0550</td>\n",
       "      <td>0.021711</td>\n",
       "      <td>0.000000</td>\n",
       "      <td>3.505886e-05</td>\n",
       "      <td>-inf</td>\n",
       "    </tr>\n",
       "    <tr>\n",
       "      <td>1</td>\n",
       "      <td>2</td>\n",
       "      <td>0.0015</td>\n",
       "      <td>0.0540</td>\n",
       "      <td>0.021316</td>\n",
       "      <td>0.681818</td>\n",
       "      <td>3.054017e-05</td>\n",
       "      <td>-0.382992</td>\n",
       "    </tr>\n",
       "    <tr>\n",
       "      <td>2</td>\n",
       "      <td>3</td>\n",
       "      <td>0.0020</td>\n",
       "      <td>0.0520</td>\n",
       "      <td>0.020526</td>\n",
       "      <td>0.909091</td>\n",
       "      <td>2.243767e-05</td>\n",
       "      <td>-0.095310</td>\n",
       "    </tr>\n",
       "    <tr>\n",
       "      <td>3</td>\n",
       "      <td>4</td>\n",
       "      <td>0.0030</td>\n",
       "      <td>0.0510</td>\n",
       "      <td>0.020132</td>\n",
       "      <td>1.363636</td>\n",
       "      <td>1.885388e-05</td>\n",
       "      <td>0.310155</td>\n",
       "    </tr>\n",
       "    <tr>\n",
       "      <td>4</td>\n",
       "      <td>5</td>\n",
       "      <td>0.0040</td>\n",
       "      <td>0.0500</td>\n",
       "      <td>0.019737</td>\n",
       "      <td>1.818182</td>\n",
       "      <td>1.558172e-05</td>\n",
       "      <td>0.597837</td>\n",
       "    </tr>\n",
       "    <tr>\n",
       "      <td>5</td>\n",
       "      <td>6</td>\n",
       "      <td>0.0050</td>\n",
       "      <td>0.0485</td>\n",
       "      <td>0.019145</td>\n",
       "      <td>2.272727</td>\n",
       "      <td>1.125779e-05</td>\n",
       "      <td>0.820981</td>\n",
       "    </tr>\n",
       "    <tr>\n",
       "      <td>6</td>\n",
       "      <td>7</td>\n",
       "      <td>0.0060</td>\n",
       "      <td>0.0480</td>\n",
       "      <td>0.018947</td>\n",
       "      <td>2.727273</td>\n",
       "      <td>9.972299e-06</td>\n",
       "      <td>1.003302</td>\n",
       "    </tr>\n",
       "    <tr>\n",
       "      <td>7</td>\n",
       "      <td>8</td>\n",
       "      <td>0.0070</td>\n",
       "      <td>0.0460</td>\n",
       "      <td>0.018158</td>\n",
       "      <td>3.181818</td>\n",
       "      <td>5.609418e-06</td>\n",
       "      <td>1.157453</td>\n",
       "    </tr>\n",
       "    <tr>\n",
       "      <td>8</td>\n",
       "      <td>9</td>\n",
       "      <td>0.0075</td>\n",
       "      <td>0.0440</td>\n",
       "      <td>0.017368</td>\n",
       "      <td>3.409091</td>\n",
       "      <td>2.493075e-06</td>\n",
       "      <td>1.226446</td>\n",
       "    </tr>\n",
       "    <tr>\n",
       "      <td>9</td>\n",
       "      <td>10</td>\n",
       "      <td>0.0080</td>\n",
       "      <td>0.0420</td>\n",
       "      <td>0.016579</td>\n",
       "      <td>3.636364</td>\n",
       "      <td>6.232687e-07</td>\n",
       "      <td>1.290984</td>\n",
       "    </tr>\n",
       "    <tr>\n",
       "      <td>10</td>\n",
       "      <td>11</td>\n",
       "      <td>0.0090</td>\n",
       "      <td>0.0410</td>\n",
       "      <td>0.016184</td>\n",
       "      <td>4.090909</td>\n",
       "      <td>1.558172e-07</td>\n",
       "      <td>1.408767</td>\n",
       "    </tr>\n",
       "    <tr>\n",
       "      <td>11</td>\n",
       "      <td>12</td>\n",
       "      <td>0.0100</td>\n",
       "      <td>0.0400</td>\n",
       "      <td>0.015789</td>\n",
       "      <td>4.545455</td>\n",
       "      <td>0.000000e+00</td>\n",
       "      <td>1.514128</td>\n",
       "    </tr>\n",
       "    <tr>\n",
       "      <td>12</td>\n",
       "      <td>13</td>\n",
       "      <td>0.0090</td>\n",
       "      <td>0.0390</td>\n",
       "      <td>0.015395</td>\n",
       "      <td>4.090909</td>\n",
       "      <td>1.558172e-07</td>\n",
       "      <td>1.408767</td>\n",
       "    </tr>\n",
       "    <tr>\n",
       "      <td>13</td>\n",
       "      <td>14</td>\n",
       "      <td>0.0080</td>\n",
       "      <td>0.0380</td>\n",
       "      <td>0.015000</td>\n",
       "      <td>3.636364</td>\n",
       "      <td>6.232687e-07</td>\n",
       "      <td>1.290984</td>\n",
       "    </tr>\n",
       "    <tr>\n",
       "      <td>14</td>\n",
       "      <td>15</td>\n",
       "      <td>0.0070</td>\n",
       "      <td>0.0370</td>\n",
       "      <td>0.014605</td>\n",
       "      <td>3.181818</td>\n",
       "      <td>1.402355e-06</td>\n",
       "      <td>1.157453</td>\n",
       "    </tr>\n",
       "    <tr>\n",
       "      <td>15</td>\n",
       "      <td>16</td>\n",
       "      <td>0.0050</td>\n",
       "      <td>0.0360</td>\n",
       "      <td>0.014211</td>\n",
       "      <td>2.272727</td>\n",
       "      <td>2.493075e-06</td>\n",
       "      <td>0.820981</td>\n",
       "    </tr>\n",
       "    <tr>\n",
       "      <td>16</td>\n",
       "      <td>17</td>\n",
       "      <td>0.0040</td>\n",
       "      <td>0.0340</td>\n",
       "      <td>0.013421</td>\n",
       "      <td>1.818182</td>\n",
       "      <td>5.609418e-06</td>\n",
       "      <td>0.597837</td>\n",
       "    </tr>\n",
       "    <tr>\n",
       "      <td>17</td>\n",
       "      <td>18</td>\n",
       "      <td>0.0020</td>\n",
       "      <td>0.0330</td>\n",
       "      <td>0.013026</td>\n",
       "      <td>0.909091</td>\n",
       "      <td>7.635042e-06</td>\n",
       "      <td>-0.095310</td>\n",
       "    </tr>\n",
       "    <tr>\n",
       "      <td>18</td>\n",
       "      <td>19</td>\n",
       "      <td>0.0010</td>\n",
       "      <td>0.0325</td>\n",
       "      <td>0.012829</td>\n",
       "      <td>0.454545</td>\n",
       "      <td>8.764716e-06</td>\n",
       "      <td>-0.788457</td>\n",
       "    </tr>\n",
       "    <tr>\n",
       "      <td>19</td>\n",
       "      <td>20</td>\n",
       "      <td>0.0000</td>\n",
       "      <td>0.0280</td>\n",
       "      <td>0.011053</td>\n",
       "      <td>0.000000</td>\n",
       "      <td>2.243767e-05</td>\n",
       "      <td>-inf</td>\n",
       "    </tr>\n",
       "  </tbody>\n",
       "</table>\n",
       "</div>"
      ],
      "text/plain": [
       "     i  delta_i  zeta_i        Yi  (dn/dy)i      (h-yi)^2  Ln(dn/dY)i\n",
       "0    1   0.0000  0.0550  0.021711  0.000000  3.505886e-05        -inf\n",
       "1    2   0.0015  0.0540  0.021316  0.681818  3.054017e-05   -0.382992\n",
       "2    3   0.0020  0.0520  0.020526  0.909091  2.243767e-05   -0.095310\n",
       "3    4   0.0030  0.0510  0.020132  1.363636  1.885388e-05    0.310155\n",
       "4    5   0.0040  0.0500  0.019737  1.818182  1.558172e-05    0.597837\n",
       "5    6   0.0050  0.0485  0.019145  2.272727  1.125779e-05    0.820981\n",
       "6    7   0.0060  0.0480  0.018947  2.727273  9.972299e-06    1.003302\n",
       "7    8   0.0070  0.0460  0.018158  3.181818  5.609418e-06    1.157453\n",
       "8    9   0.0075  0.0440  0.017368  3.409091  2.493075e-06    1.226446\n",
       "9   10   0.0080  0.0420  0.016579  3.636364  6.232687e-07    1.290984\n",
       "10  11   0.0090  0.0410  0.016184  4.090909  1.558172e-07    1.408767\n",
       "11  12   0.0100  0.0400  0.015789  4.545455  0.000000e+00    1.514128\n",
       "12  13   0.0090  0.0390  0.015395  4.090909  1.558172e-07    1.408767\n",
       "13  14   0.0080  0.0380  0.015000  3.636364  6.232687e-07    1.290984\n",
       "14  15   0.0070  0.0370  0.014605  3.181818  1.402355e-06    1.157453\n",
       "15  16   0.0050  0.0360  0.014211  2.272727  2.493075e-06    0.820981\n",
       "16  17   0.0040  0.0340  0.013421  1.818182  5.609418e-06    0.597837\n",
       "17  18   0.0020  0.0330  0.013026  0.909091  7.635042e-06   -0.095310\n",
       "18  19   0.0010  0.0325  0.012829  0.454545  8.764716e-06   -0.788457\n",
       "19  20   0.0000  0.0280  0.011053  0.000000  2.243767e-05        -inf"
      ]
     },
     "execution_count": 16,
     "metadata": {},
     "output_type": "execute_result"
    }
   ],
   "source": [
    "hyi2_2=(h2-yi_2)**2\n",
    "data2_mod={\"i\":i_2,\"delta_i\":delta_2,\"zeta_i\":zeta_2,\"Yi\":yi_2,\"(dn/dy)i\":dndy_2,\"(h-yi)^2\":hyi2_2,\"Ln(dn/dY)i\":lndndy_2}\n",
    "data2_mod=pd.DataFrame(data2_mod,columns=[\"i\",\"delta_i\",\"zeta_i\",\"Yi\",\"(dn/dy)i\",\"(h-yi)^2\",\"Ln(dn/dY)i\"])\n",
    "data2_mod"
   ]
  },
  {
   "cell_type": "code",
   "execution_count": 17,
   "metadata": {},
   "outputs": [],
   "source": [
    "x=np.array(hyi2_2)\n",
    "x=np.delete(x, [0,19])\n",
    "x=x.reshape(-1,1)\n",
    "y=np.array(lndndy_2)\n",
    "y=np.delete(y, [0,19])\n",
    "y=y.reshape(-1,1)\n",
    "model = LinearRegression()\n",
    "model.fit(x, y)\n",
    "c=model.intercept_\n",
    "m=model.coef_\n",
    "r2=model.score(x, y)\n",
    "delta_m=m*sqrt(1-r2)\n",
    "y_pred=model.predict(x)"
   ]
  },
  {
   "cell_type": "code",
   "execution_count": 18,
   "metadata": {},
   "outputs": [
    {
     "name": "stdout",
     "output_type": "stream",
     "text": [
      "[1.18873855] [[-56538.09058639]] 0.5277508381970218 [[-38853.19477103]]\n"
     ]
    }
   ],
   "source": [
    "print(c,m,r2,delta_m)"
   ]
  },
  {
   "cell_type": "code",
   "execution_count": 19,
   "metadata": {},
   "outputs": [
    {
     "data": {
      "text/plain": [
       "Text(0.5,1,'menit 30')"
      ]
     },
     "execution_count": 19,
     "metadata": {},
     "output_type": "execute_result"
    },
    {
     "data": {
      "image/png": "[encoded data removed]",
      "text/plain": [
       "<Figure size 432x288 with 1 Axes>"
      ]
     },
     "metadata": {
      "needs_background": "light"
     },
     "output_type": "display_data"
    }
   ],
   "source": [
    "plt.scatter(x*10**(5),y)\n",
    "plt.plot(x*10**(5),y_pred,'r',label='y=-56538.09x+1.18,  R^2=0.52, delta_m=-38853.19')\n",
    "plt.legend()\n",
    "plt.xlabel(\"(h-yi)^2*10**(-5)\")\n",
    "plt.ylabel(\"Ln(dn/dY)i\")\n",
    "plt.xlim(min(x)*10**(5),max(x)*10**(5))\n",
    "plt.ylim(min(y),max(y))\n",
    "plt.grid(True)\n",
    "plt.title(\"menit 30\")"
   ]
  },
  {
   "cell_type": "code",
   "execution_count": 20,
   "metadata": {},
   "outputs": [
    {
     "name": "stdout",
     "output_type": "stream",
     "text": [
      "[[2.45655429e-09]] [[1.68815362e-09]]\n"
     ]
    }
   ],
   "source": [
    "D_2 = - 1/(4*m*30*60)\n",
    "deltaD_2 = - 1/(4 * m**2 * 30*60) * delta_m\n",
    "print(D_2, deltaD_2)"
   ]
  },
  {
   "cell_type": "markdown",
   "metadata": {},
   "source": [
    "Menit 45"
   ]
  },
  {
   "cell_type": "code",
   "execution_count": 21,
   "metadata": {},
   "outputs": [],
   "source": [
    "Data3 = pd.read_csv('./Data/menit45.csv')\n",
    "zeta_3 = Data3[\"zeta\"]*10**(-2)#m\n",
    "delta_3 = Data3[\"delta\"]*10**(-2)#m\n",
    "i_3 = np.arange(1,int(len(Data3))+1,1)"
   ]
  },
  {
   "cell_type": "code",
   "execution_count": 22,
   "metadata": {},
   "outputs": [
    {
     "name": "stderr",
     "output_type": "stream",
     "text": [
      "/home/imanrahmanri/anaconda3/lib/python3.7/site-packages/pandas/core/series.py:853: RuntimeWarning: divide by zero encountered in log\n",
      "  result = getattr(ufunc, method)(*inputs, **kwargs)\n"
     ]
    }
   ],
   "source": [
    "yi_3 = (zeta_3 * z0)/(z0 + d + z)\n",
    "dndy_3 = delta_3/(z*d)\n",
    "lndndy_3 = np.log(dndy_3)"
   ]
  },
  {
   "cell_type": "code",
   "execution_count": 23,
   "metadata": {},
   "outputs": [
    {
     "name": "stderr",
     "output_type": "stream",
     "text": [
      "/home/imanrahmanri/anaconda3/lib/python3.7/site-packages/numpy/core/fromnumeric.py:61: FutureWarning: \n",
      "The current behaviour of 'Series.argmax' is deprecated, use 'idxmax'\n",
      "instead.\n",
      "The behavior of 'argmax' will be corrected to return the positional\n",
      "maximum in the future. For now, use 'series.values.argmax' or\n",
      "'np.argmax(np.array(values))' to get the position of the maximum\n",
      "row.\n",
      "  return bound(*args, **kwds)\n"
     ]
    },
    {
     "data": {
      "text/plain": [
       "0.015789473684210527"
      ]
     },
     "execution_count": 23,
     "metadata": {},
     "output_type": "execute_result"
    }
   ],
   "source": [
    "ih=np.argmax(dndy_3)\n",
    "h3=yi_3[ih]\n",
    "h3"
   ]
  },
  {
   "cell_type": "code",
   "execution_count": 24,
   "metadata": {},
   "outputs": [
    {
     "data": {
      "text/plain": [
       "Text(0.5,1,'menit 45')"
      ]
     },
     "execution_count": 24,
     "metadata": {},
     "output_type": "execute_result"
    },
    {
     "data": {
      "image/png": "[encoded data removed]",
      "text/plain": [
       "<Figure size 432x288 with 1 Axes>"
      ]
     },
     "metadata": {
      "needs_background": "light"
     },
     "output_type": "display_data"
    }
   ],
   "source": [
    "plt.plot(yi_3,dndy_3)\n",
    "plt.xlabel(\"Yi\")\n",
    "plt.ylabel(\"(dn/dY)i\")\n",
    "plt.grid()\n",
    "plt.vlines(x=yi_3[ih] , ymin=0 , ymax=dndy_3[ih])\n",
    "plt.axhline(0, color='black')\n",
    "plt.axvline(0, color='black')\n",
    "plt.title(\"menit 45\")"
   ]
  },
  {
   "cell_type": "code",
   "execution_count": 25,
   "metadata": {},
   "outputs": [
    {
     "data": {
      "text/html": [
       "<div>\n",
       "<style scoped>\n",
       "    .dataframe tbody tr th:only-of-type {\n",
       "        vertical-align: middle;\n",
       "    }\n",
       "\n",
       "    .dataframe tbody tr th {\n",
       "        vertical-align: top;\n",
       "    }\n",
       "\n",
       "    .dataframe thead th {\n",
       "        text-align: right;\n",
       "    }\n",
       "</style>\n",
       "<table border=\"1\" class=\"dataframe\">\n",
       "  <thead>\n",
       "    <tr style=\"text-align: right;\">\n",
       "      <th></th>\n",
       "      <th>i</th>\n",
       "      <th>delta_i</th>\n",
       "      <th>zeta_i</th>\n",
       "      <th>Yi</th>\n",
       "      <th>(dn/dy)i</th>\n",
       "      <th>(h-yi)^2</th>\n",
       "      <th>Ln(dn/dY)i</th>\n",
       "    </tr>\n",
       "  </thead>\n",
       "  <tbody>\n",
       "    <tr>\n",
       "      <td>0</td>\n",
       "      <td>1</td>\n",
       "      <td>0.0000</td>\n",
       "      <td>0.0490</td>\n",
       "      <td>0.019342</td>\n",
       "      <td>0.000000</td>\n",
       "      <td>1.262119e-05</td>\n",
       "      <td>-inf</td>\n",
       "    </tr>\n",
       "    <tr>\n",
       "      <td>1</td>\n",
       "      <td>2</td>\n",
       "      <td>0.0005</td>\n",
       "      <td>0.0480</td>\n",
       "      <td>0.018947</td>\n",
       "      <td>0.227273</td>\n",
       "      <td>9.972299e-06</td>\n",
       "      <td>-1.481605</td>\n",
       "    </tr>\n",
       "    <tr>\n",
       "      <td>2</td>\n",
       "      <td>3</td>\n",
       "      <td>0.0010</td>\n",
       "      <td>0.0475</td>\n",
       "      <td>0.018750</td>\n",
       "      <td>0.454545</td>\n",
       "      <td>8.764716e-06</td>\n",
       "      <td>-0.788457</td>\n",
       "    </tr>\n",
       "    <tr>\n",
       "      <td>3</td>\n",
       "      <td>4</td>\n",
       "      <td>0.0015</td>\n",
       "      <td>0.0470</td>\n",
       "      <td>0.018553</td>\n",
       "      <td>0.681818</td>\n",
       "      <td>7.635042e-06</td>\n",
       "      <td>-0.382992</td>\n",
       "    </tr>\n",
       "    <tr>\n",
       "      <td>4</td>\n",
       "      <td>5</td>\n",
       "      <td>0.0030</td>\n",
       "      <td>0.0450</td>\n",
       "      <td>0.017763</td>\n",
       "      <td>1.363636</td>\n",
       "      <td>3.895429e-06</td>\n",
       "      <td>0.310155</td>\n",
       "    </tr>\n",
       "    <tr>\n",
       "      <td>5</td>\n",
       "      <td>6</td>\n",
       "      <td>0.0040</td>\n",
       "      <td>0.0445</td>\n",
       "      <td>0.017566</td>\n",
       "      <td>1.818182</td>\n",
       "      <td>3.155298e-06</td>\n",
       "      <td>0.597837</td>\n",
       "    </tr>\n",
       "    <tr>\n",
       "      <td>6</td>\n",
       "      <td>7</td>\n",
       "      <td>0.0055</td>\n",
       "      <td>0.0430</td>\n",
       "      <td>0.016974</td>\n",
       "      <td>2.500000</td>\n",
       "      <td>1.402355e-06</td>\n",
       "      <td>0.916291</td>\n",
       "    </tr>\n",
       "    <tr>\n",
       "      <td>7</td>\n",
       "      <td>8</td>\n",
       "      <td>0.0060</td>\n",
       "      <td>0.0420</td>\n",
       "      <td>0.016579</td>\n",
       "      <td>2.727273</td>\n",
       "      <td>6.232687e-07</td>\n",
       "      <td>1.003302</td>\n",
       "    </tr>\n",
       "    <tr>\n",
       "      <td>8</td>\n",
       "      <td>9</td>\n",
       "      <td>0.0065</td>\n",
       "      <td>0.0415</td>\n",
       "      <td>0.016382</td>\n",
       "      <td>2.954545</td>\n",
       "      <td>3.505886e-07</td>\n",
       "      <td>1.083345</td>\n",
       "    </tr>\n",
       "    <tr>\n",
       "      <td>9</td>\n",
       "      <td>10</td>\n",
       "      <td>0.0070</td>\n",
       "      <td>0.0400</td>\n",
       "      <td>0.015789</td>\n",
       "      <td>3.181818</td>\n",
       "      <td>0.000000e+00</td>\n",
       "      <td>1.157453</td>\n",
       "    </tr>\n",
       "    <tr>\n",
       "      <td>10</td>\n",
       "      <td>11</td>\n",
       "      <td>0.0060</td>\n",
       "      <td>0.0390</td>\n",
       "      <td>0.015395</td>\n",
       "      <td>2.727273</td>\n",
       "      <td>1.558172e-07</td>\n",
       "      <td>1.003302</td>\n",
       "    </tr>\n",
       "    <tr>\n",
       "      <td>11</td>\n",
       "      <td>12</td>\n",
       "      <td>0.0055</td>\n",
       "      <td>0.0380</td>\n",
       "      <td>0.015000</td>\n",
       "      <td>2.500000</td>\n",
       "      <td>6.232687e-07</td>\n",
       "      <td>0.916291</td>\n",
       "    </tr>\n",
       "    <tr>\n",
       "      <td>12</td>\n",
       "      <td>13</td>\n",
       "      <td>0.0050</td>\n",
       "      <td>0.0375</td>\n",
       "      <td>0.014803</td>\n",
       "      <td>2.272727</td>\n",
       "      <td>9.738573e-07</td>\n",
       "      <td>0.820981</td>\n",
       "    </tr>\n",
       "    <tr>\n",
       "      <td>13</td>\n",
       "      <td>14</td>\n",
       "      <td>0.0040</td>\n",
       "      <td>0.0360</td>\n",
       "      <td>0.014211</td>\n",
       "      <td>1.818182</td>\n",
       "      <td>2.493075e-06</td>\n",
       "      <td>0.597837</td>\n",
       "    </tr>\n",
       "    <tr>\n",
       "      <td>14</td>\n",
       "      <td>15</td>\n",
       "      <td>0.0035</td>\n",
       "      <td>0.0355</td>\n",
       "      <td>0.014013</td>\n",
       "      <td>1.590909</td>\n",
       "      <td>3.155298e-06</td>\n",
       "      <td>0.464306</td>\n",
       "    </tr>\n",
       "    <tr>\n",
       "      <td>15</td>\n",
       "      <td>16</td>\n",
       "      <td>0.0030</td>\n",
       "      <td>0.0345</td>\n",
       "      <td>0.013618</td>\n",
       "      <td>1.363636</td>\n",
       "      <td>4.713470e-06</td>\n",
       "      <td>0.310155</td>\n",
       "    </tr>\n",
       "    <tr>\n",
       "      <td>16</td>\n",
       "      <td>17</td>\n",
       "      <td>0.0025</td>\n",
       "      <td>0.0340</td>\n",
       "      <td>0.013421</td>\n",
       "      <td>1.136364</td>\n",
       "      <td>5.609418e-06</td>\n",
       "      <td>0.127833</td>\n",
       "    </tr>\n",
       "    <tr>\n",
       "      <td>17</td>\n",
       "      <td>18</td>\n",
       "      <td>0.0020</td>\n",
       "      <td>0.0330</td>\n",
       "      <td>0.013026</td>\n",
       "      <td>0.909091</td>\n",
       "      <td>7.635042e-06</td>\n",
       "      <td>-0.095310</td>\n",
       "    </tr>\n",
       "    <tr>\n",
       "      <td>18</td>\n",
       "      <td>19</td>\n",
       "      <td>0.0010</td>\n",
       "      <td>0.0320</td>\n",
       "      <td>0.012632</td>\n",
       "      <td>0.454545</td>\n",
       "      <td>9.972299e-06</td>\n",
       "      <td>-0.788457</td>\n",
       "    </tr>\n",
       "    <tr>\n",
       "      <td>19</td>\n",
       "      <td>20</td>\n",
       "      <td>0.0000</td>\n",
       "      <td>0.0300</td>\n",
       "      <td>0.011842</td>\n",
       "      <td>0.000000</td>\n",
       "      <td>1.558172e-05</td>\n",
       "      <td>-inf</td>\n",
       "    </tr>\n",
       "  </tbody>\n",
       "</table>\n",
       "</div>"
      ],
      "text/plain": [
       "     i  delta_i  zeta_i        Yi  (dn/dy)i      (h-yi)^2  Ln(dn/dY)i\n",
       "0    1   0.0000  0.0490  0.019342  0.000000  1.262119e-05        -inf\n",
       "1    2   0.0005  0.0480  0.018947  0.227273  9.972299e-06   -1.481605\n",
       "2    3   0.0010  0.0475  0.018750  0.454545  8.764716e-06   -0.788457\n",
       "3    4   0.0015  0.0470  0.018553  0.681818  7.635042e-06   -0.382992\n",
       "4    5   0.0030  0.0450  0.017763  1.363636  3.895429e-06    0.310155\n",
       "5    6   0.0040  0.0445  0.017566  1.818182  3.155298e-06    0.597837\n",
       "6    7   0.0055  0.0430  0.016974  2.500000  1.402355e-06    0.916291\n",
       "7    8   0.0060  0.0420  0.016579  2.727273  6.232687e-07    1.003302\n",
       "8    9   0.0065  0.0415  0.016382  2.954545  3.505886e-07    1.083345\n",
       "9   10   0.0070  0.0400  0.015789  3.181818  0.000000e+00    1.157453\n",
       "10  11   0.0060  0.0390  0.015395  2.727273  1.558172e-07    1.003302\n",
       "11  12   0.0055  0.0380  0.015000  2.500000  6.232687e-07    0.916291\n",
       "12  13   0.0050  0.0375  0.014803  2.272727  9.738573e-07    0.820981\n",
       "13  14   0.0040  0.0360  0.014211  1.818182  2.493075e-06    0.597837\n",
       "14  15   0.0035  0.0355  0.014013  1.590909  3.155298e-06    0.464306\n",
       "15  16   0.0030  0.0345  0.013618  1.363636  4.713470e-06    0.310155\n",
       "16  17   0.0025  0.0340  0.013421  1.136364  5.609418e-06    0.127833\n",
       "17  18   0.0020  0.0330  0.013026  0.909091  7.635042e-06   -0.095310\n",
       "18  19   0.0010  0.0320  0.012632  0.454545  9.972299e-06   -0.788457\n",
       "19  20   0.0000  0.0300  0.011842  0.000000  1.558172e-05        -inf"
      ]
     },
     "execution_count": 25,
     "metadata": {},
     "output_type": "execute_result"
    }
   ],
   "source": [
    "hyi2_3=(h3-yi_3)**2\n",
    "data3_mod={\"i\":i_3,\"delta_i\":delta_3,\"zeta_i\":zeta_3,\"Yi\":yi_3,\"(dn/dy)i\":dndy_3,\"(h-yi)^2\":hyi2_3,\"Ln(dn/dY)i\":lndndy_3}\n",
    "data3_mod=pd.DataFrame(data3_mod,columns=[\"i\",\"delta_i\",\"zeta_i\",\"Yi\",\"(dn/dy)i\",\"(h-yi)^2\",\"Ln(dn/dY)i\"])\n",
    "data3_mod"
   ]
  },
  {
   "cell_type": "code",
   "execution_count": 26,
   "metadata": {},
   "outputs": [],
   "source": [
    "x=np.array(hyi2_3)\n",
    "x=np.delete(x, [0,19])\n",
    "x=x.reshape(-1,1)\n",
    "y=np.array(lndndy_3)\n",
    "y=np.delete(y, [0,19])\n",
    "y=y.reshape(-1,1)\n",
    "model = LinearRegression()\n",
    "model.fit(x, y)\n",
    "c=model.intercept_\n",
    "m=model.coef_\n",
    "r2=model.score(x, y)\n",
    "delta_m=m*sqrt(1-r2)\n",
    "y_pred=model.predict(x)"
   ]
  },
  {
   "cell_type": "code",
   "execution_count": 27,
   "metadata": {},
   "outputs": [
    {
     "name": "stdout",
     "output_type": "stream",
     "text": [
      "[1.14783551] [[-209316.19659184]] 0.9426750411166404 [[-50115.80499423]]\n"
     ]
    }
   ],
   "source": [
    "print(c,m,r2,delta_m)"
   ]
  },
  {
   "cell_type": "code",
   "execution_count": 28,
   "metadata": {},
   "outputs": [
    {
     "data": {
      "text/plain": [
       "Text(0.5,1,'menit 45')"
      ]
     },
     "execution_count": 28,
     "metadata": {},
     "output_type": "execute_result"
    },
    {
     "data": {
      "image/png": "[encoded data removed]",
      "text/plain": [
       "<Figure size 432x288 with 1 Axes>"
      ]
     },
     "metadata": {
      "needs_background": "light"
     },
     "output_type": "display_data"
    }
   ],
   "source": [
    "plt.scatter(x*10**(5),y)\n",
    "plt.plot(x*10**(5),y_pred,'r',label='y=-209316.19x+1.14,  R^2=0.94, delta_m=-50115.80')\n",
    "plt.legend()\n",
    "plt.xlabel(\"(h-yi)^2*10**(-5)\")\n",
    "plt.ylabel(\"Ln(dn/dY)i\")\n",
    "plt.xlim(min(x)*10**(5),max(x)*10**(5))\n",
    "plt.ylim(min(y),max(y))\n",
    "plt.grid(True)\n",
    "plt.title(\"menit 45\")"
   ]
  },
  {
   "cell_type": "code",
   "execution_count": 29,
   "metadata": {},
   "outputs": [
    {
     "name": "stdout",
     "output_type": "stream",
     "text": [
      "[[4.42357515e-10]] [[1.05912028e-10]]\n"
     ]
    }
   ],
   "source": [
    "D_3 = - 1/(4*m*45*60)\n",
    "deltaD_3 = - 1/(4 * m**2 * 45*60) * delta_m\n",
    "print(D_3, deltaD_3)"
   ]
  },
  {
   "cell_type": "markdown",
   "metadata": {},
   "source": [
    "Menit 60"
   ]
  },
  {
   "cell_type": "code",
   "execution_count": 30,
   "metadata": {},
   "outputs": [],
   "source": [
    "Data4 = pd.read_csv('./Data/menit60.csv')\n",
    "zeta_4 = Data4[\"zeta\"]*10**(-2)#m\n",
    "delta_4 = Data4[\"delta\"]*10**(-2)#m\n",
    "i_4 = np.arange(1,int(len(Data4))+1,1)"
   ]
  },
  {
   "cell_type": "code",
   "execution_count": 31,
   "metadata": {},
   "outputs": [
    {
     "name": "stderr",
     "output_type": "stream",
     "text": [
      "/home/imanrahmanri/anaconda3/lib/python3.7/site-packages/pandas/core/series.py:853: RuntimeWarning: divide by zero encountered in log\n",
      "  result = getattr(ufunc, method)(*inputs, **kwargs)\n"
     ]
    }
   ],
   "source": [
    "yi_4 = (zeta_4 * z0)/(z0 + d + z)\n",
    "dndy_4 = delta_4/(z*d)\n",
    "lndndy_4 = np.log(dndy_4)"
   ]
  },
  {
   "cell_type": "code",
   "execution_count": 32,
   "metadata": {},
   "outputs": [
    {
     "name": "stderr",
     "output_type": "stream",
     "text": [
      "/home/imanrahmanri/anaconda3/lib/python3.7/site-packages/numpy/core/fromnumeric.py:61: FutureWarning: \n",
      "The current behaviour of 'Series.argmax' is deprecated, use 'idxmax'\n",
      "instead.\n",
      "The behavior of 'argmax' will be corrected to return the positional\n",
      "maximum in the future. For now, use 'series.values.argmax' or\n",
      "'np.argmax(np.array(values))' to get the position of the maximum\n",
      "row.\n",
      "  return bound(*args, **kwds)\n"
     ]
    },
    {
     "data": {
      "text/plain": [
       "0.016578947368421054"
      ]
     },
     "execution_count": 32,
     "metadata": {},
     "output_type": "execute_result"
    }
   ],
   "source": [
    "ih=np.argmax(dndy_4)\n",
    "h4=yi_4[ih]\n",
    "h4"
   ]
  },
  {
   "cell_type": "code",
   "execution_count": 33,
   "metadata": {},
   "outputs": [
    {
     "data": {
      "text/plain": [
       "Text(0.5,1,'menit 60')"
      ]
     },
     "execution_count": 33,
     "metadata": {},
     "output_type": "execute_result"
    },
    {
     "data": {
      "image/png": "[encoded data removed]",
      "text/plain": [
       "<Figure size 432x288 with 1 Axes>"
      ]
     },
     "metadata": {
      "needs_background": "light"
     },
     "output_type": "display_data"
    }
   ],
   "source": [
    "plt.plot(yi_4,dndy_4)\n",
    "plt.xlabel(\"Yi\")\n",
    "plt.ylabel(\"(dn/dY)i\")\n",
    "plt.grid()\n",
    "plt.vlines(x=yi_4[ih] , ymin=0 , ymax=dndy_4[ih])\n",
    "plt.axhline(0, color='black')\n",
    "plt.axvline(0, color='black')\n",
    "plt.title(\"menit 60\")"
   ]
  },
  {
   "cell_type": "code",
   "execution_count": 34,
   "metadata": {},
   "outputs": [
    {
     "data": {
      "text/html": [
       "<div>\n",
       "<style scoped>\n",
       "    .dataframe tbody tr th:only-of-type {\n",
       "        vertical-align: middle;\n",
       "    }\n",
       "\n",
       "    .dataframe tbody tr th {\n",
       "        vertical-align: top;\n",
       "    }\n",
       "\n",
       "    .dataframe thead th {\n",
       "        text-align: right;\n",
       "    }\n",
       "</style>\n",
       "<table border=\"1\" class=\"dataframe\">\n",
       "  <thead>\n",
       "    <tr style=\"text-align: right;\">\n",
       "      <th></th>\n",
       "      <th>i</th>\n",
       "      <th>delta_i</th>\n",
       "      <th>zeta_i</th>\n",
       "      <th>Yi</th>\n",
       "      <th>(dn/dy)i</th>\n",
       "      <th>(h-yi)^2</th>\n",
       "      <th>Ln(dn/dY)i</th>\n",
       "    </tr>\n",
       "  </thead>\n",
       "  <tbody>\n",
       "    <tr>\n",
       "      <td>0</td>\n",
       "      <td>1</td>\n",
       "      <td>0.0000</td>\n",
       "      <td>0.0500</td>\n",
       "      <td>0.019737</td>\n",
       "      <td>0.000000</td>\n",
       "      <td>9.972299e-06</td>\n",
       "      <td>-inf</td>\n",
       "    </tr>\n",
       "    <tr>\n",
       "      <td>1</td>\n",
       "      <td>2</td>\n",
       "      <td>0.0005</td>\n",
       "      <td>0.0495</td>\n",
       "      <td>0.019539</td>\n",
       "      <td>0.227273</td>\n",
       "      <td>8.764716e-06</td>\n",
       "      <td>-1.481605</td>\n",
       "    </tr>\n",
       "    <tr>\n",
       "      <td>2</td>\n",
       "      <td>3</td>\n",
       "      <td>0.0010</td>\n",
       "      <td>0.0490</td>\n",
       "      <td>0.019342</td>\n",
       "      <td>0.454545</td>\n",
       "      <td>7.635042e-06</td>\n",
       "      <td>-0.788457</td>\n",
       "    </tr>\n",
       "    <tr>\n",
       "      <td>3</td>\n",
       "      <td>4</td>\n",
       "      <td>0.0020</td>\n",
       "      <td>0.0480</td>\n",
       "      <td>0.018947</td>\n",
       "      <td>0.909091</td>\n",
       "      <td>5.609418e-06</td>\n",
       "      <td>-0.095310</td>\n",
       "    </tr>\n",
       "    <tr>\n",
       "      <td>4</td>\n",
       "      <td>5</td>\n",
       "      <td>0.0025</td>\n",
       "      <td>0.0470</td>\n",
       "      <td>0.018553</td>\n",
       "      <td>1.136364</td>\n",
       "      <td>3.895429e-06</td>\n",
       "      <td>0.127833</td>\n",
       "    </tr>\n",
       "    <tr>\n",
       "      <td>5</td>\n",
       "      <td>6</td>\n",
       "      <td>0.0030</td>\n",
       "      <td>0.0460</td>\n",
       "      <td>0.018158</td>\n",
       "      <td>1.363636</td>\n",
       "      <td>2.493075e-06</td>\n",
       "      <td>0.310155</td>\n",
       "    </tr>\n",
       "    <tr>\n",
       "      <td>6</td>\n",
       "      <td>7</td>\n",
       "      <td>0.0040</td>\n",
       "      <td>0.0450</td>\n",
       "      <td>0.017763</td>\n",
       "      <td>1.818182</td>\n",
       "      <td>1.402355e-06</td>\n",
       "      <td>0.597837</td>\n",
       "    </tr>\n",
       "    <tr>\n",
       "      <td>7</td>\n",
       "      <td>8</td>\n",
       "      <td>0.0045</td>\n",
       "      <td>0.0440</td>\n",
       "      <td>0.017368</td>\n",
       "      <td>2.045455</td>\n",
       "      <td>6.232687e-07</td>\n",
       "      <td>0.715620</td>\n",
       "    </tr>\n",
       "    <tr>\n",
       "      <td>8</td>\n",
       "      <td>9</td>\n",
       "      <td>0.0050</td>\n",
       "      <td>0.0430</td>\n",
       "      <td>0.016974</td>\n",
       "      <td>2.272727</td>\n",
       "      <td>1.558172e-07</td>\n",
       "      <td>0.820981</td>\n",
       "    </tr>\n",
       "    <tr>\n",
       "      <td>9</td>\n",
       "      <td>10</td>\n",
       "      <td>0.0055</td>\n",
       "      <td>0.0420</td>\n",
       "      <td>0.016579</td>\n",
       "      <td>2.500000</td>\n",
       "      <td>0.000000e+00</td>\n",
       "      <td>0.916291</td>\n",
       "    </tr>\n",
       "    <tr>\n",
       "      <td>10</td>\n",
       "      <td>11</td>\n",
       "      <td>0.0050</td>\n",
       "      <td>0.0400</td>\n",
       "      <td>0.015789</td>\n",
       "      <td>2.272727</td>\n",
       "      <td>6.232687e-07</td>\n",
       "      <td>0.820981</td>\n",
       "    </tr>\n",
       "    <tr>\n",
       "      <td>11</td>\n",
       "      <td>12</td>\n",
       "      <td>0.0045</td>\n",
       "      <td>0.0395</td>\n",
       "      <td>0.015592</td>\n",
       "      <td>2.045455</td>\n",
       "      <td>9.738573e-07</td>\n",
       "      <td>0.715620</td>\n",
       "    </tr>\n",
       "    <tr>\n",
       "      <td>12</td>\n",
       "      <td>13</td>\n",
       "      <td>0.0040</td>\n",
       "      <td>0.0380</td>\n",
       "      <td>0.015000</td>\n",
       "      <td>1.818182</td>\n",
       "      <td>2.493075e-06</td>\n",
       "      <td>0.597837</td>\n",
       "    </tr>\n",
       "    <tr>\n",
       "      <td>13</td>\n",
       "      <td>14</td>\n",
       "      <td>0.0035</td>\n",
       "      <td>0.0370</td>\n",
       "      <td>0.014605</td>\n",
       "      <td>1.590909</td>\n",
       "      <td>3.895429e-06</td>\n",
       "      <td>0.464306</td>\n",
       "    </tr>\n",
       "    <tr>\n",
       "      <td>14</td>\n",
       "      <td>15</td>\n",
       "      <td>0.0030</td>\n",
       "      <td>0.0360</td>\n",
       "      <td>0.014211</td>\n",
       "      <td>1.363636</td>\n",
       "      <td>5.609418e-06</td>\n",
       "      <td>0.310155</td>\n",
       "    </tr>\n",
       "    <tr>\n",
       "      <td>15</td>\n",
       "      <td>16</td>\n",
       "      <td>0.0025</td>\n",
       "      <td>0.0340</td>\n",
       "      <td>0.013421</td>\n",
       "      <td>1.136364</td>\n",
       "      <td>9.972299e-06</td>\n",
       "      <td>0.127833</td>\n",
       "    </tr>\n",
       "    <tr>\n",
       "      <td>16</td>\n",
       "      <td>17</td>\n",
       "      <td>0.0020</td>\n",
       "      <td>0.0330</td>\n",
       "      <td>0.013026</td>\n",
       "      <td>0.909091</td>\n",
       "      <td>1.262119e-05</td>\n",
       "      <td>-0.095310</td>\n",
       "    </tr>\n",
       "    <tr>\n",
       "      <td>17</td>\n",
       "      <td>18</td>\n",
       "      <td>0.0015</td>\n",
       "      <td>0.0310</td>\n",
       "      <td>0.012237</td>\n",
       "      <td>0.681818</td>\n",
       "      <td>1.885388e-05</td>\n",
       "      <td>-0.382992</td>\n",
       "    </tr>\n",
       "    <tr>\n",
       "      <td>18</td>\n",
       "      <td>19</td>\n",
       "      <td>0.0010</td>\n",
       "      <td>0.0300</td>\n",
       "      <td>0.011842</td>\n",
       "      <td>0.454545</td>\n",
       "      <td>2.243767e-05</td>\n",
       "      <td>-0.788457</td>\n",
       "    </tr>\n",
       "    <tr>\n",
       "      <td>19</td>\n",
       "      <td>20</td>\n",
       "      <td>0.0000</td>\n",
       "      <td>0.0270</td>\n",
       "      <td>0.010658</td>\n",
       "      <td>0.000000</td>\n",
       "      <td>3.505886e-05</td>\n",
       "      <td>-inf</td>\n",
       "    </tr>\n",
       "  </tbody>\n",
       "</table>\n",
       "</div>"
      ],
      "text/plain": [
       "     i  delta_i  zeta_i        Yi  (dn/dy)i      (h-yi)^2  Ln(dn/dY)i\n",
       "0    1   0.0000  0.0500  0.019737  0.000000  9.972299e-06        -inf\n",
       "1    2   0.0005  0.0495  0.019539  0.227273  8.764716e-06   -1.481605\n",
       "2    3   0.0010  0.0490  0.019342  0.454545  7.635042e-06   -0.788457\n",
       "3    4   0.0020  0.0480  0.018947  0.909091  5.609418e-06   -0.095310\n",
       "4    5   0.0025  0.0470  0.018553  1.136364  3.895429e-06    0.127833\n",
       "5    6   0.0030  0.0460  0.018158  1.363636  2.493075e-06    0.310155\n",
       "6    7   0.0040  0.0450  0.017763  1.818182  1.402355e-06    0.597837\n",
       "7    8   0.0045  0.0440  0.017368  2.045455  6.232687e-07    0.715620\n",
       "8    9   0.0050  0.0430  0.016974  2.272727  1.558172e-07    0.820981\n",
       "9   10   0.0055  0.0420  0.016579  2.500000  0.000000e+00    0.916291\n",
       "10  11   0.0050  0.0400  0.015789  2.272727  6.232687e-07    0.820981\n",
       "11  12   0.0045  0.0395  0.015592  2.045455  9.738573e-07    0.715620\n",
       "12  13   0.0040  0.0380  0.015000  1.818182  2.493075e-06    0.597837\n",
       "13  14   0.0035  0.0370  0.014605  1.590909  3.895429e-06    0.464306\n",
       "14  15   0.0030  0.0360  0.014211  1.363636  5.609418e-06    0.310155\n",
       "15  16   0.0025  0.0340  0.013421  1.136364  9.972299e-06    0.127833\n",
       "16  17   0.0020  0.0330  0.013026  0.909091  1.262119e-05   -0.095310\n",
       "17  18   0.0015  0.0310  0.012237  0.681818  1.885388e-05   -0.382992\n",
       "18  19   0.0010  0.0300  0.011842  0.454545  2.243767e-05   -0.788457\n",
       "19  20   0.0000  0.0270  0.010658  0.000000  3.505886e-05        -inf"
      ]
     },
     "execution_count": 34,
     "metadata": {},
     "output_type": "execute_result"
    }
   ],
   "source": [
    "hyi2_4=(h4-yi_4)**2\n",
    "data4_mod={\"i\":i_4,\"delta_i\":delta_4,\"zeta_i\":zeta_4,\"Yi\":yi_4,\"(dn/dy)i\":dndy_4,\"(h-yi)^2\":hyi2_4,\"Ln(dn/dY)i\":lndndy_4}\n",
    "data4_mod=pd.DataFrame(data4_mod,columns=[\"i\",\"delta_i\",\"zeta_i\",\"Yi\",\"(dn/dy)i\",\"(h-yi)^2\",\"Ln(dn/dY)i\"])\n",
    "data4_mod"
   ]
  },
  {
   "cell_type": "code",
   "execution_count": 35,
   "metadata": {},
   "outputs": [],
   "source": [
    "x=np.array(hyi2_4)\n",
    "x=np.delete(x, [0,19])\n",
    "x=x.reshape(-1,1)\n",
    "y=np.array(lndndy_4)\n",
    "y=np.delete(y, [0,19])\n",
    "y=y.reshape(-1,1)\n",
    "model = LinearRegression()\n",
    "model.fit(x, y)\n",
    "c=model.intercept_\n",
    "m=model.coef_\n",
    "r2=model.score(x, y)\n",
    "delta_m=m*sqrt(1-r2)\n",
    "y_pred=model.predict(x)"
   ]
  },
  {
   "cell_type": "code",
   "execution_count": 36,
   "metadata": {},
   "outputs": [
    {
     "name": "stdout",
     "output_type": "stream",
     "text": [
      "[0.60515744] [[-74029.02265966]] 0.5209645127187741 [[-51237.25557317]]\n"
     ]
    }
   ],
   "source": [
    "print(c,m,r2,delta_m)"
   ]
  },
  {
   "cell_type": "code",
   "execution_count": 37,
   "metadata": {},
   "outputs": [
    {
     "data": {
      "text/plain": [
       "Text(0.5,1,'menit 60')"
      ]
     },
     "execution_count": 37,
     "metadata": {},
     "output_type": "execute_result"
    },
    {
     "data": {
      "image/png": "[encoded data removed]",
      "text/plain": [
       "<Figure size 432x288 with 1 Axes>"
      ]
     },
     "metadata": {
      "needs_background": "light"
     },
     "output_type": "display_data"
    }
   ],
   "source": [
    "plt.scatter(x*10**(5),y)\n",
    "plt.plot(x*10**(5),y_pred,'r',label='y=-74029.02x+0.60,  R^2=0.52, delta_m=-51237.25')\n",
    "plt.legend()\n",
    "plt.xlabel(\"(h-yi)^2*10**(-5)\")\n",
    "plt.ylabel(\"Ln(dn/dY)i\")\n",
    "plt.xlim(min(x)*10**(5),max(x)*10**(5))\n",
    "plt.ylim(min(y),max(y))\n",
    "plt.grid(True)\n",
    "plt.title(\"menit 60\")"
   ]
  },
  {
   "cell_type": "code",
   "execution_count": 38,
   "metadata": {},
   "outputs": [
    {
     "name": "stdout",
     "output_type": "stream",
     "text": [
      "[[9.38070529e-10]] [[6.49261029e-10]]\n"
     ]
    }
   ],
   "source": [
    "D_4 = - 1/(4*m*60*60)\n",
    "deltaD_4 = - 1/(4 * m**2 * 60*60) * delta_m\n",
    "print(D_4, deltaD_4)"
   ]
  }
 ],
 "metadata": {
  "kernelspec": {
   "display_name": "Python 3",
   "language": "python",
   "name": "python3"
  },
  "language_info": {
   "codemirror_mode": {
    "name": "ipython",
    "version": 3
   },
   "file_extension": ".py",
   "mimetype": "text/x-python",
   "name": "python",
   "nbconvert_exporter": "python",
   "pygments_lexer": "ipython3",
   "version": "3.7.4"
  }
 },
 "nbformat": 4,
 "nbformat_minor": 2
}
